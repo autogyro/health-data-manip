{
 "cells": [
  {
   "cell_type": "markdown",
   "metadata": {
    "deletable": true,
    "editable": true
   },
   "source": [
    "# Machine Learning with Healthcare Data "
   ]
  },
  {
   "cell_type": "markdown",
   "metadata": {
    "deletable": true,
    "editable": true
   },
   "source": [
    "Collection of individual scripts and ipython notebooks illustrating my scratch development work towards the completion of the capstone project for Udacity's Machine Learning Nanodegree. As such, the scripts are entirely my own work and do not reflect the finished product nor constitute any type of reporting document. The completed project and report will be available on a separate repository. "
   ]
  },
  {
   "cell_type": "markdown",
   "metadata": {
    "deletable": true,
    "editable": true
   },
   "source": [
    "## Installation"
   ]
  },
  {
   "cell_type": "markdown",
   "metadata": {
    "deletable": true,
    "editable": true
   },
   "source": [
    "Fork or clone GitHub repository and make sure you have a working Python 3 installation. To get the most of the scripts, make sure you have Numpy, Scipy, Pandas and Matplotlib libraries installed in your Python environment.  The easiest way to add the required libraries is by using the tools provided by the Anaconda python distribution, https://www.anaconda.com."
   ]
  },
  {
   "cell_type": "markdown",
   "metadata": {
    "deletable": true,
    "editable": true
   },
   "source": [
    "`$ git clone https://github.com/juanerolon/health-data-manip.git`"
   ]
  },
  {
   "cell_type": "markdown",
   "metadata": {
    "deletable": true,
    "editable": true
   },
   "source": [
    "**Manual installation of core libraries within a conda environment (if libraries not already present):**"
   ]
  },
  {
   "cell_type": "markdown",
   "metadata": {
    "deletable": true,
    "editable": true
   },
   "source": [
    "`$ conda install numpy`  \n",
    "\n",
    "`$ conda install scipy`  \n",
    "\n",
    "`$ conda install matplotlib`  \n",
    "\n",
    "`$ conda install pandas`"
   ]
  },
  {
   "cell_type": "markdown",
   "metadata": {
    "deletable": true,
    "editable": true
   },
   "source": [
    "### Requisites"
   ]
  },
  {
   "cell_type": "markdown",
   "metadata": {},
   "source": [
    "** Libraries **\n",
    "- Sklearn \n",
    "- Tensorflow with GPU support\n",
    "- Keras \n",
    "- Xgboost \n",
    "- Imbalanced-learn\n",
    "- Feather format\n"
   ]
  },
  {
   "cell_type": "markdown",
   "metadata": {
    "deletable": true,
    "editable": true
   },
   "source": [
    "## Usage"
   ]
  },
  {
   "cell_type": "markdown",
   "metadata": {
    "deletable": true,
    "editable": true
   },
   "source": [
    "To run code inside Ipython notebooks you may open the file using Jupyter. From the command line:"
   ]
  },
  {
   "cell_type": "markdown",
   "metadata": {
    "deletable": true,
    "editable": true
   },
   "source": [
    "`$ jupyter notebook notebook.ipynb`"
   ]
  },
  {
   "cell_type": "markdown",
   "metadata": {
    "deletable": true,
    "editable": true
   },
   "source": [
    "To run each individual script you may use your favorite IDE or run the script from the command line:"
   ]
  },
  {
   "cell_type": "markdown",
   "metadata": {
    "deletable": true,
    "editable": true
   },
   "source": [
    "`$ python scriptname.py`"
   ]
  },
  {
   "cell_type": "markdown",
   "metadata": {
    "deletable": true,
    "editable": true
   },
   "source": [
    "## Datasets"
   ]
  },
  {
   "cell_type": "markdown",
   "metadata": {},
   "source": [
    "The datasets in `health-data-manip/datasets/` are in SAS XPT format.\n",
    "\n",
    "The raw datasets and their descriptions are open source and were obtained from The National Health and Nutrition Examination Surveys (NHANES) 2013. For more information visit:\n",
    "\n",
    "https://wwwn.cdc.gov/nchs/nhanes/continuousnhanes/Overview.aspx?BeginYear=2013"
   ]
  },
  {
   "cell_type": "markdown",
   "metadata": {
    "deletable": true,
    "editable": true
   },
   "source": [
    "## Contributing"
   ]
  },
  {
   "cell_type": "markdown",
   "metadata": {
    "deletable": true,
    "editable": true
   },
   "source": [
    "Please feel free to fork or clone or submit pull requests. By participating in this project, you agree to abide by open source standards and code of conduct."
   ]
  },
  {
   "cell_type": "markdown",
   "metadata": {
    "deletable": true,
    "editable": true
   },
   "source": [
    "## License"
   ]
  },
  {
   "cell_type": "markdown",
   "metadata": {
    "deletable": true,
    "editable": true
   },
   "source": [
    "The present project is a public domain work. However, it needs to be credited to @Juan E Rolon, and not used as an exact copy for project submission to Udacity's Machine Learning Nanodegree; doing so would constitute an act of plagiarism on your part and hurt your project evaluation. In any other case, please feel free to adapt the code, modify it or do whatever you see fit."
   ]
  },
  {
   "cell_type": "markdown",
   "metadata": {
    "deletable": true,
    "editable": true
   },
   "source": [
    "## About\n"
   ]
  },
  {
   "cell_type": "markdown",
   "metadata": {
    "deletable": true,
    "editable": true
   },
   "source": [
    "The scripts and notebooks in this project are part of the project submission materials developed to satisfy the capstone project completion for Udacity's Machine Learning Nanodegree."
   ]
  },
  {
   "cell_type": "code",
   "execution_count": null,
   "metadata": {
    "collapsed": true,
    "deletable": true,
    "editable": true
   },
   "outputs": [],
   "source": []
  }
 ],
 "metadata": {
  "kernelspec": {
   "display_name": "Python 3",
   "language": "python",
   "name": "python3"
  },
  "language_info": {
   "codemirror_mode": {
    "name": "ipython",
    "version": 3
   },
   "file_extension": ".py",
   "mimetype": "text/x-python",
   "name": "python",
   "nbconvert_exporter": "python",
   "pygments_lexer": "ipython3",
   "version": "3.5.3"
  }
 },
 "nbformat": 4,
 "nbformat_minor": 2
}
